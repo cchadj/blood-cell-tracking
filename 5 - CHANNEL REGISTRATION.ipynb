{
 "cells": [
  {
   "cell_type": "code",
   "execution_count": null,
   "metadata": {},
   "outputs": [],
   "source": [
    "%load_ext autoreload\n",
    "%autoreload 2\n",
    "%matplotlib inline\n",
    "\n",
    "from cnnlearning import *\n",
    "from learningutils import *\n",
    "from patchextraction import *\n",
    "from imageprosessing import *\n",
    "from nearest_neighbors import *\n",
    "from evaluation import *\n",
    "from classificationutils import *\n",
    "from sharedvariables import *\n",
    "from vesseldetection import *\n",
    "from generate_datasets import *\n",
    "from plotutils import no_ticks, plot_images_as_grid\n",
    "from guitools import CvRoipolySelector, CvPointSelector\n",
    "\n",
    "import cv2 as cv\n",
    "import numpy as np\n",
    "from matplotlib import pyplot as plt\n",
    "\n",
    "import os\n",
    "plt.rcParams['image.cmap'] = 'gray'\n",
    "\n",
    "# Jupyter Notebook settings\n",
    "\n",
    "from IPython.core.display import display, HTML\n",
    "display(HTML(\"<style>.container { width:95% !important; }</style>\"))\n",
    "%autosave 20\n",
    "%matplotlib inline\n",
    "%load_ext autoreload\n",
    "%autoreload 2\n",
    "\n",
    "# Imports for data analysis\n",
    "import pandas as pd\n",
    "import matplotlib.pyplot as plt\n",
    "pd.set_option('display.max_rows', 2500)\n",
    "pd.set_option('display.max_columns', 500)\n",
    "pd.set_option('display.max_colwidth', 2000)\n",
    "pd.set_option('display.width', 2000)\n",
    "pd.set_option('display.float_format', lambda x: '%.3f' % x)\n",
    "\n",
    "# size=25\n",
    "size=10\n",
    "params = {'legend.fontsize': 'large',\n",
    "          'figure.figsize': (20,8),\n",
    "          'axes.labelsize': size,\n",
    "          'axes.titlesize': size,\n",
    "          'xtick.labelsize': size*0.75,\n",
    "          'ytick.labelsize': size*0.75,\n",
    "          'axes.titlepad': 25}\n",
    "plt.rcParams.update(params)\n",
    "\n",
    "report_images_folder = os.path.join(\n",
    "    '..', '..', 'thesis-report', 'images', 'channel_matching'\n",
    ")\n",
    "pathlib.Path(report_images_folder).mkdir(exist_ok=True, parents=False)\n",
    "\n",
    "video_sessions = get_video_sessions(marked=True, validation=True)\n",
    "    \n",
    "[vs.load_vessel_masks() for vs in video_sessions]\n",
    "[vs.basename for vs in video_sessions], "
   ]
  },
  {
   "cell_type": "code",
   "execution_count": null,
   "metadata": {},
   "outputs": [],
   "source": [
    "plt.imshow(video_sessions[2].save_vessel_masks)"
   ]
  },
  {
   "cell_type": "code",
   "execution_count": null,
   "metadata": {},
   "outputs": [],
   "source": [
    "video_sessions = get_video_sessions(marked=True, validation=False)\n",
    "video_sessions[1].write_video_oa790('ok.avi', masked=True)"
   ]
  },
  {
   "cell_type": "code",
   "execution_count": null,
   "metadata": {},
   "outputs": [],
   "source": [
    "video_sessions[1].image_registrator.vertical_displacement"
   ]
  },
  {
   "cell_type": "code",
   "execution_count": null,
   "metadata": {},
   "outputs": [],
   "source": [
    "for vs in video_sessions:\n",
    "    vs.visualize_registration()"
   ]
  }
 ],
 "metadata": {
  "kernelspec": {
   "display_name": "Python 3",
   "language": "python",
   "name": "python3"
  },
  "language_info": {
   "codemirror_mode": {
    "name": "ipython",
    "version": 3
   },
   "file_extension": ".py",
   "mimetype": "text/x-python",
   "name": "python",
   "nbconvert_exporter": "python",
   "pygments_lexer": "ipython3",
   "version": "3.9.1"
  }
 },
 "nbformat": 4,
 "nbformat_minor": 4
}
